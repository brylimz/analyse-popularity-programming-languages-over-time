{
 "nbformat": 4,
 "nbformat_minor": 0,
 "metadata": {
  "kernelspec": {
   "display_name": "Python 3",
   "language": "python",
   "name": "python3"
  },
  "language_info": {
   "codemirror_mode": {
    "name": "ipython",
    "version": 3
   },
   "file_extension": ".py",
   "mimetype": "text/x-python",
   "name": "python",
   "nbconvert_exporter": "python",
   "pygments_lexer": "ipython3",
   "version": "3.7.3"
  },
  "colab": {
   "name": "Programming Languages (start).ipynb",
   "provenance": []
  }
 },
 "cells": [
  {
   "cell_type": "markdown",
   "metadata": {
    "id": "MAAKxOwsGxuj",
    "colab_type": "text"
   },
   "source": [
    "## Get the Data\n",
    "\n",
    "Either use the provided .csv file or (optionally) get fresh (the freshest?) data from running an SQL query on StackExchange: \n",
    "\n",
    "Follow this link to run the query from [StackExchange](https://data.stackexchange.com/stackoverflow/query/675441/popular-programming-languages-per-over-time-eversql-com) to get your own .csv file\n",
    "\n",
    "<code>\n",
    "select dateadd(month, datediff(month, 0, q.CreationDate), 0) m, TagName, count(*)\n",
    "from PostTags pt\n",
    "join Posts q on q.Id=pt.PostId\n",
    "join Tags t on t.Id=pt.TagId\n",
    "where TagName in ('java','c','c++','python','c#','javascript','assembly','php','perl','ruby','visual basic','swift','r','object-c','scratch','go','swift','delphi')\n",
    "and q.CreationDate < dateadd(month, datediff(month, 0, getdate()), 0)\n",
    "group by dateadd(month, datediff(month, 0, q.CreationDate), 0), TagName\n",
    "order by dateadd(month, datediff(month, 0, q.CreationDate), 0)\n",
    "</code>"
   ]
  },
  {
   "cell_type": "markdown",
   "metadata": {
    "id": "u5KcSXt1Gxuk",
    "colab_type": "text"
   },
   "source": [
    "## Import Statement\n"
   ]
  },
  {
   "cell_type": "code",
   "metadata": {
    "id": "Ru4Wq-pXGxuk",
    "colab_type": "code",
    "colab": {}
   },
   "source": [],
   "execution_count": 7,
   "outputs": []
  },
  {
   "cell_type": "markdown",
   "metadata": {
    "id": "xEP6beuEGxun",
    "colab_type": "text"
   },
   "source": [
    "## Data Exploration"
   ]
  },
  {
   "cell_type": "markdown",
   "metadata": {
    "id": "w3Q75B4CGxun",
    "colab_type": "text"
   },
   "source": [
    "**Challenge**: Read the .csv file and store it in a Pandas dataframe"
   ]
  },
  {
   "cell_type": "code",
   "metadata": {
    "id": "Bm7hQtEGIiri",
    "colab_type": "code",
    "colab": {}
   },
   "source": [
    "import pandas as pd\n",
    "df = pd.read_csv('QueryResults.csv')\n"
   ],
   "execution_count": 8,
   "outputs": []
  },
  {
   "cell_type": "markdown",
   "metadata": {
    "id": "x2WnDM75Gxup",
    "colab_type": "text"
   },
   "source": [
    "**Challenge**: Examine the first 5 rows and the last 5 rows of the of the dataframe"
   ]
  },
  {
   "cell_type": "code",
   "metadata": {
    "id": "50oqpUxVIiJf",
    "colab_type": "code",
    "colab": {}
   },
   "source": [
    "df.head()"
   ],
   "execution_count": 9,
   "outputs": [
    {
     "data": {
      "text/plain": "                     m     TagName  Unnamed: 2\n0  2008-07-01 00:00:00          c#           3\n1  2008-08-01 00:00:00    assembly           8\n2  2008-08-01 00:00:00  javascript         163\n3  2008-08-01 00:00:00           c          83\n4  2008-08-01 00:00:00      python         122",
      "text/html": "<div>\n<style scoped>\n    .dataframe tbody tr th:only-of-type {\n        vertical-align: middle;\n    }\n\n    .dataframe tbody tr th {\n        vertical-align: top;\n    }\n\n    .dataframe thead th {\n        text-align: right;\n    }\n</style>\n<table border=\"1\" class=\"dataframe\">\n  <thead>\n    <tr style=\"text-align: right;\">\n      <th></th>\n      <th>m</th>\n      <th>TagName</th>\n      <th>Unnamed: 2</th>\n    </tr>\n  </thead>\n  <tbody>\n    <tr>\n      <th>0</th>\n      <td>2008-07-01 00:00:00</td>\n      <td>c#</td>\n      <td>3</td>\n    </tr>\n    <tr>\n      <th>1</th>\n      <td>2008-08-01 00:00:00</td>\n      <td>assembly</td>\n      <td>8</td>\n    </tr>\n    <tr>\n      <th>2</th>\n      <td>2008-08-01 00:00:00</td>\n      <td>javascript</td>\n      <td>163</td>\n    </tr>\n    <tr>\n      <th>3</th>\n      <td>2008-08-01 00:00:00</td>\n      <td>c</td>\n      <td>83</td>\n    </tr>\n    <tr>\n      <th>4</th>\n      <td>2008-08-01 00:00:00</td>\n      <td>python</td>\n      <td>122</td>\n    </tr>\n  </tbody>\n</table>\n</div>"
     },
     "execution_count": 9,
     "metadata": {},
     "output_type": "execute_result"
    }
   ]
  },
  {
   "cell_type": "markdown",
   "metadata": {
    "id": "0o9hvVgyGxus",
    "colab_type": "text"
   },
   "source": [
    "**Challenge:** Check how many rows and how many columns there are. \n",
    "What are the dimensions of the dataframe?"
   ]
  },
  {
   "cell_type": "code",
   "metadata": {
    "id": "ZUidjCPFIho8",
    "colab_type": "code",
    "colab": {}
   },
   "source": [
    "df.shape"
   ],
   "execution_count": 10,
   "outputs": [
    {
     "data": {
      "text/plain": "(2230, 3)"
     },
     "execution_count": 10,
     "metadata": {},
     "output_type": "execute_result"
    }
   ]
  },
  {
   "cell_type": "markdown",
   "metadata": {
    "id": "ybZkNLmxGxuu",
    "colab_type": "text"
   },
   "source": [
    "**Challenge**: Count the number of entries in each column of the dataframe"
   ]
  },
  {
   "cell_type": "code",
   "metadata": {
    "id": "Sc1dmmOoIg2g",
    "colab_type": "code",
    "colab": {}
   },
   "source": [
    "count = df.count()\n",
    "print(count)"
   ],
   "execution_count": 11,
   "outputs": [
    {
     "name": "stdout",
     "output_type": "stream",
     "text": [
      "m             2230\n",
      "TagName       2230\n",
      "Unnamed: 2    2230\n",
      "dtype: int64\n"
     ]
    }
   ]
  },
  {
   "cell_type": "markdown",
   "metadata": {
    "id": "hlnfFsscGxuw",
    "colab_type": "text"
   },
   "source": [
    "**Challenge**: Calculate the total number of post per language.\n",
    "Which Programming language has had the highest total number of posts of all time?"
   ]
  },
  {
   "cell_type": "code",
   "metadata": {
    "id": "9-NYFONcIc1X",
    "colab_type": "code",
    "colab": {}
   },
   "source": [
    "print(df.groupby(\"TagName\").sum())\n"
   ],
   "execution_count": 12,
   "outputs": [
    {
     "name": "stdout",
     "output_type": "stream",
     "text": [
      "            Unnamed: 2\n",
      "TagName               \n",
      "assembly         39192\n",
      "c               370983\n",
      "c#             1512951\n",
      "c++             748323\n",
      "delphi           48967\n",
      "go               58193\n",
      "java           1815420\n",
      "javascript     2310404\n",
      "perl             66232\n",
      "php            1421719\n",
      "python         1854374\n",
      "r               430272\n",
      "ruby            222144\n",
      "swift           306165\n"
     ]
    }
   ]
  },
  {
   "cell_type": "markdown",
   "metadata": {
    "id": "iVCesB49Gxuz",
    "colab_type": "text"
   },
   "source": [
    "Some languages are older (e.g., C) and other languages are newer (e.g., Swift). The dataset starts in September 2008.\n",
    "\n",
    "**Challenge**: How many months of data exist per language? Which language had the fewest months with an entry? \n"
   ]
  },
  {
   "cell_type": "code",
   "metadata": {
    "id": "hDT4JlJNJfgQ",
    "colab_type": "code",
    "colab": {}
   },
   "source": [
    "grouped = df.groupby(\"TagName\").count()"
   ],
   "execution_count": 13,
   "outputs": []
  },
  {
   "cell_type": "markdown",
   "metadata": {
    "id": "arguGp3ZGxu1",
    "colab_type": "text"
   },
   "source": [
    "## Data Cleaning\n",
    "\n",
    "Let's fix the date format to make it more readable. We need to use Pandas to change format from a string of \"2008-07-01 00:00:00\" to a datetime object with the format of \"2008-07-01\""
   ]
  },
  {
   "cell_type": "code",
   "metadata": {
    "id": "5nh5a4UtGxu1",
    "colab_type": "code",
    "colab": {}
   },
   "source": [
    "df.m = pd.to_datetime(df.m)\n",
    "df.head()"
   ],
   "execution_count": 14,
   "outputs": [
    {
     "data": {
      "text/plain": "           m     TagName  Unnamed: 2\n0 2008-07-01          c#           3\n1 2008-08-01    assembly           8\n2 2008-08-01  javascript         163\n3 2008-08-01           c          83\n4 2008-08-01      python         122",
      "text/html": "<div>\n<style scoped>\n    .dataframe tbody tr th:only-of-type {\n        vertical-align: middle;\n    }\n\n    .dataframe tbody tr th {\n        vertical-align: top;\n    }\n\n    .dataframe thead th {\n        text-align: right;\n    }\n</style>\n<table border=\"1\" class=\"dataframe\">\n  <thead>\n    <tr style=\"text-align: right;\">\n      <th></th>\n      <th>m</th>\n      <th>TagName</th>\n      <th>Unnamed: 2</th>\n    </tr>\n  </thead>\n  <tbody>\n    <tr>\n      <th>0</th>\n      <td>2008-07-01</td>\n      <td>c#</td>\n      <td>3</td>\n    </tr>\n    <tr>\n      <th>1</th>\n      <td>2008-08-01</td>\n      <td>assembly</td>\n      <td>8</td>\n    </tr>\n    <tr>\n      <th>2</th>\n      <td>2008-08-01</td>\n      <td>javascript</td>\n      <td>163</td>\n    </tr>\n    <tr>\n      <th>3</th>\n      <td>2008-08-01</td>\n      <td>c</td>\n      <td>83</td>\n    </tr>\n    <tr>\n      <th>4</th>\n      <td>2008-08-01</td>\n      <td>python</td>\n      <td>122</td>\n    </tr>\n  </tbody>\n</table>\n</div>"
     },
     "execution_count": 14,
     "metadata": {},
     "output_type": "execute_result"
    }
   ]
  },
  {
   "cell_type": "code",
   "execution_count": 14,
   "outputs": [],
   "source": [],
   "metadata": {
    "collapsed": false,
    "pycharm": {
     "name": "#%%\n"
    }
   }
  },
  {
   "cell_type": "code",
   "metadata": {
    "id": "016H-Fy4Gxu3",
    "colab_type": "code",
    "colab": {}
   },
   "source": [],
   "execution_count": 14,
   "outputs": []
  },
  {
   "cell_type": "code",
   "metadata": {
    "id": "4EiSd7pdGxu5",
    "colab_type": "code",
    "colab": {}
   },
   "source": [],
   "execution_count": 14,
   "outputs": []
  },
  {
   "cell_type": "markdown",
   "metadata": {
    "id": "rWAV6tuzGxu6",
    "colab_type": "text"
   },
   "source": [
    "## Data Manipulation\n",
    "\n"
   ]
  },
  {
   "cell_type": "code",
   "execution_count": 19,
   "outputs": [
    {
     "name": "stdout",
     "output_type": "stream",
     "text": [
      "(162, 14)\n",
      "TagName     assembly      c      c#    c++  delphi  go    java  javascript  \\\n",
      "m                                                                            \n",
      "2008-07-01       NaN    NaN     3.0    NaN     NaN NaN     NaN         NaN   \n",
      "2008-08-01       8.0   83.0   507.0  163.0    14.0 NaN   222.0       163.0   \n",
      "2008-09-01      28.0  320.0  1648.0  754.0   105.0 NaN  1136.0       639.0   \n",
      "2008-10-01      15.0  303.0  1990.0  810.0   112.0 NaN  1154.0       726.0   \n",
      "2008-11-01      17.0  259.0  1733.0  734.0   141.0 NaN   958.0       579.0   \n",
      "\n",
      "TagName      perl    php  python    r   ruby  swift  \n",
      "m                                                    \n",
      "2008-07-01    NaN    NaN     NaN  NaN    NaN    NaN  \n",
      "2008-08-01   28.0  160.0   122.0  NaN   71.0    NaN  \n",
      "2008-09-01  131.0  480.0   538.0  6.0  288.0    NaN  \n",
      "2008-10-01  127.0  615.0   508.0  NaN  249.0    NaN  \n",
      "2008-11-01   97.0  502.0   452.0  1.0  159.0    NaN  \n"
     ]
    },
    {
     "data": {
      "text/plain": "TagName     assembly       c      c#     c++  delphi     go    java  \\\nm                                                                     \n2008-07-01       0.0     0.0     3.0     0.0     0.0    0.0     0.0   \n2008-08-01       8.0    83.0   507.0   163.0    14.0    0.0   222.0   \n2008-09-01      28.0   320.0  1648.0   754.0   105.0    0.0  1136.0   \n2008-10-01      15.0   303.0  1990.0   810.0   112.0    0.0  1154.0   \n2008-11-01      17.0   259.0  1733.0   734.0   141.0    0.0   958.0   \n...              ...     ...     ...     ...     ...    ...     ...   \n2021-08-01     166.0  1620.0  5757.0  3478.0   141.0  784.0  7945.0   \n2021-09-01     197.0  1804.0  5761.0  3919.0   143.0  659.0  7801.0   \n2021-10-01     223.0  2208.0  6051.0  4091.0   150.0  761.0  7804.0   \n2021-11-01     312.0  2347.0  6420.0  4186.0   151.0  710.0  8325.0   \n2021-12-01     290.0  2278.0  5812.0  3908.0   158.0  785.0  7640.0   \n\nTagName     javascript   perl     php   python       r   ruby   swift  \nm                                                                      \n2008-07-01         0.0    0.0     0.0      0.0     0.0    0.0     0.0  \n2008-08-01       163.0   28.0   160.0    122.0     0.0   71.0     0.0  \n2008-09-01       639.0  131.0   480.0    538.0     6.0  288.0     0.0  \n2008-10-01       726.0  127.0   615.0    508.0     0.0  249.0     0.0  \n2008-11-01       579.0   97.0   502.0    452.0     1.0  159.0     0.0  \n...                ...    ...     ...      ...     ...    ...     ...  \n2021-08-01     17034.0  118.0  4584.0  23106.0  4573.0  508.0  2193.0  \n2021-09-01     16682.0  114.0  4316.0  21951.0  4329.0  507.0  1938.0  \n2021-10-01     16255.0  131.0  4297.0  22999.0  4751.0  480.0  1852.0  \n2021-11-01     15904.0   81.0  4153.0  23519.0  4640.0  449.0  1772.0  \n2021-12-01     15495.0  104.0  3813.0  22318.0  3942.0  439.0  1687.0  \n\n[162 rows x 14 columns]",
      "text/html": "<div>\n<style scoped>\n    .dataframe tbody tr th:only-of-type {\n        vertical-align: middle;\n    }\n\n    .dataframe tbody tr th {\n        vertical-align: top;\n    }\n\n    .dataframe thead th {\n        text-align: right;\n    }\n</style>\n<table border=\"1\" class=\"dataframe\">\n  <thead>\n    <tr style=\"text-align: right;\">\n      <th>TagName</th>\n      <th>assembly</th>\n      <th>c</th>\n      <th>c#</th>\n      <th>c++</th>\n      <th>delphi</th>\n      <th>go</th>\n      <th>java</th>\n      <th>javascript</th>\n      <th>perl</th>\n      <th>php</th>\n      <th>python</th>\n      <th>r</th>\n      <th>ruby</th>\n      <th>swift</th>\n    </tr>\n    <tr>\n      <th>m</th>\n      <th></th>\n      <th></th>\n      <th></th>\n      <th></th>\n      <th></th>\n      <th></th>\n      <th></th>\n      <th></th>\n      <th></th>\n      <th></th>\n      <th></th>\n      <th></th>\n      <th></th>\n      <th></th>\n    </tr>\n  </thead>\n  <tbody>\n    <tr>\n      <th>2008-07-01</th>\n      <td>0.0</td>\n      <td>0.0</td>\n      <td>3.0</td>\n      <td>0.0</td>\n      <td>0.0</td>\n      <td>0.0</td>\n      <td>0.0</td>\n      <td>0.0</td>\n      <td>0.0</td>\n      <td>0.0</td>\n      <td>0.0</td>\n      <td>0.0</td>\n      <td>0.0</td>\n      <td>0.0</td>\n    </tr>\n    <tr>\n      <th>2008-08-01</th>\n      <td>8.0</td>\n      <td>83.0</td>\n      <td>507.0</td>\n      <td>163.0</td>\n      <td>14.0</td>\n      <td>0.0</td>\n      <td>222.0</td>\n      <td>163.0</td>\n      <td>28.0</td>\n      <td>160.0</td>\n      <td>122.0</td>\n      <td>0.0</td>\n      <td>71.0</td>\n      <td>0.0</td>\n    </tr>\n    <tr>\n      <th>2008-09-01</th>\n      <td>28.0</td>\n      <td>320.0</td>\n      <td>1648.0</td>\n      <td>754.0</td>\n      <td>105.0</td>\n      <td>0.0</td>\n      <td>1136.0</td>\n      <td>639.0</td>\n      <td>131.0</td>\n      <td>480.0</td>\n      <td>538.0</td>\n      <td>6.0</td>\n      <td>288.0</td>\n      <td>0.0</td>\n    </tr>\n    <tr>\n      <th>2008-10-01</th>\n      <td>15.0</td>\n      <td>303.0</td>\n      <td>1990.0</td>\n      <td>810.0</td>\n      <td>112.0</td>\n      <td>0.0</td>\n      <td>1154.0</td>\n      <td>726.0</td>\n      <td>127.0</td>\n      <td>615.0</td>\n      <td>508.0</td>\n      <td>0.0</td>\n      <td>249.0</td>\n      <td>0.0</td>\n    </tr>\n    <tr>\n      <th>2008-11-01</th>\n      <td>17.0</td>\n      <td>259.0</td>\n      <td>1733.0</td>\n      <td>734.0</td>\n      <td>141.0</td>\n      <td>0.0</td>\n      <td>958.0</td>\n      <td>579.0</td>\n      <td>97.0</td>\n      <td>502.0</td>\n      <td>452.0</td>\n      <td>1.0</td>\n      <td>159.0</td>\n      <td>0.0</td>\n    </tr>\n    <tr>\n      <th>...</th>\n      <td>...</td>\n      <td>...</td>\n      <td>...</td>\n      <td>...</td>\n      <td>...</td>\n      <td>...</td>\n      <td>...</td>\n      <td>...</td>\n      <td>...</td>\n      <td>...</td>\n      <td>...</td>\n      <td>...</td>\n      <td>...</td>\n      <td>...</td>\n    </tr>\n    <tr>\n      <th>2021-08-01</th>\n      <td>166.0</td>\n      <td>1620.0</td>\n      <td>5757.0</td>\n      <td>3478.0</td>\n      <td>141.0</td>\n      <td>784.0</td>\n      <td>7945.0</td>\n      <td>17034.0</td>\n      <td>118.0</td>\n      <td>4584.0</td>\n      <td>23106.0</td>\n      <td>4573.0</td>\n      <td>508.0</td>\n      <td>2193.0</td>\n    </tr>\n    <tr>\n      <th>2021-09-01</th>\n      <td>197.0</td>\n      <td>1804.0</td>\n      <td>5761.0</td>\n      <td>3919.0</td>\n      <td>143.0</td>\n      <td>659.0</td>\n      <td>7801.0</td>\n      <td>16682.0</td>\n      <td>114.0</td>\n      <td>4316.0</td>\n      <td>21951.0</td>\n      <td>4329.0</td>\n      <td>507.0</td>\n      <td>1938.0</td>\n    </tr>\n    <tr>\n      <th>2021-10-01</th>\n      <td>223.0</td>\n      <td>2208.0</td>\n      <td>6051.0</td>\n      <td>4091.0</td>\n      <td>150.0</td>\n      <td>761.0</td>\n      <td>7804.0</td>\n      <td>16255.0</td>\n      <td>131.0</td>\n      <td>4297.0</td>\n      <td>22999.0</td>\n      <td>4751.0</td>\n      <td>480.0</td>\n      <td>1852.0</td>\n    </tr>\n    <tr>\n      <th>2021-11-01</th>\n      <td>312.0</td>\n      <td>2347.0</td>\n      <td>6420.0</td>\n      <td>4186.0</td>\n      <td>151.0</td>\n      <td>710.0</td>\n      <td>8325.0</td>\n      <td>15904.0</td>\n      <td>81.0</td>\n      <td>4153.0</td>\n      <td>23519.0</td>\n      <td>4640.0</td>\n      <td>449.0</td>\n      <td>1772.0</td>\n    </tr>\n    <tr>\n      <th>2021-12-01</th>\n      <td>290.0</td>\n      <td>2278.0</td>\n      <td>5812.0</td>\n      <td>3908.0</td>\n      <td>158.0</td>\n      <td>785.0</td>\n      <td>7640.0</td>\n      <td>15495.0</td>\n      <td>104.0</td>\n      <td>3813.0</td>\n      <td>22318.0</td>\n      <td>3942.0</td>\n      <td>439.0</td>\n      <td>1687.0</td>\n    </tr>\n  </tbody>\n</table>\n<p>162 rows × 14 columns</p>\n</div>"
     },
     "execution_count": 19,
     "metadata": {},
     "output_type": "execute_result"
    }
   ],
   "source": [
    "reshaped_df = df.pivot(index='m', columns='TagName', values='Unnamed: 2')\n",
    "print(reshaped_df.shape)\n",
    "print(reshaped_df.head())\n",
    "new_reshaped_df = reshaped_df.fillna(0)\n",
    "new_reshaped_df"
   ],
   "metadata": {
    "collapsed": false,
    "pycharm": {
     "name": "#%%\n"
    }
   }
  },
  {
   "cell_type": "markdown",
   "metadata": {
    "id": "RWKcVIyFKwHM",
    "colab_type": "text"
   },
   "source": [
    "**Challenge**: What are the dimensions of our new dataframe? How many rows and columns does it have? Print out the column names and print out the first 5 rows of the dataframe."
   ]
  },
  {
   "cell_type": "code",
   "metadata": {
    "id": "v-u4FcLXGxu9",
    "colab_type": "code",
    "colab": {}
   },
   "source": [],
   "execution_count": 15,
   "outputs": []
  },
  {
   "cell_type": "code",
   "metadata": {
    "id": "NUyBcaMMGxu-",
    "colab_type": "code",
    "colab": {}
   },
   "source": [],
   "execution_count": 15,
   "outputs": []
  },
  {
   "cell_type": "code",
   "metadata": {
    "id": "LnUIOL3LGxvA",
    "colab_type": "code",
    "colab": {}
   },
   "source": [],
   "execution_count": 15,
   "outputs": []
  },
  {
   "cell_type": "markdown",
   "metadata": {
    "id": "BoDCuRU0GxvC",
    "colab_type": "text"
   },
   "source": [
    "**Challenge**: Count the number of entries per programming language. Why might the number of entries be different? "
   ]
  },
  {
   "cell_type": "code",
   "metadata": {
    "id": "-peEFgaMGxvE",
    "colab_type": "code",
    "colab": {}
   },
   "source": [],
   "execution_count": 15,
   "outputs": []
  },
  {
   "cell_type": "code",
   "metadata": {
    "id": "01f2BCF8GxvG",
    "colab_type": "code",
    "colab": {}
   },
   "source": [],
   "execution_count": 15,
   "outputs": []
  },
  {
   "cell_type": "code",
   "metadata": {
    "id": "KooRRxAdGxvI",
    "colab_type": "code",
    "colab": {}
   },
   "source": [],
   "execution_count": 15,
   "outputs": []
  },
  {
   "cell_type": "markdown",
   "metadata": {
    "id": "8xU7l_f4GxvK",
    "colab_type": "text"
   },
   "source": [
    "## Data Visualisaton with with Matplotlib\n"
   ]
  },
  {
   "cell_type": "markdown",
   "metadata": {
    "id": "njnNXTlhGxvK",
    "colab_type": "text"
   },
   "source": [
    "**Challenge**: Use the [matplotlib documentation](https://matplotlib.org/3.2.1/api/_as_gen/matplotlib.pyplot.plot.html#matplotlib.pyplot.plot) to plot a single programming language (e.g., java) on a chart."
   ]
  },
  {
   "cell_type": "code",
   "metadata": {
    "id": "S0OS8T8iGxvL",
    "colab_type": "code",
    "colab": {}
   },
   "source": [
    "import pandas as pd\n",
    "import matplotlib.pyplot as plt\n",
    "\n",
    "plt.plot(reshaped_df.index, reshaped_df.java)"
   ],
   "execution_count": 21,
   "outputs": [
    {
     "data": {
      "text/plain": "[<matplotlib.lines.Line2D at 0x29ebfb77eb0>]"
     },
     "execution_count": 21,
     "metadata": {},
     "output_type": "execute_result"
    },
    {
     "data": {
      "text/plain": "<Figure size 432x288 with 1 Axes>",
      "image/png": "[encoded data removed]"
     },
     "metadata": {
      "needs_background": "light"
     },
     "output_type": "display_data"
    }
   ]
  },
  {
   "cell_type": "code",
   "metadata": {
    "id": "EU6AV1l9GxvM",
    "colab_type": "code",
    "colab": {}
   },
   "source": [
    ""
   ],
   "execution_count": 15,
   "outputs": []
  },
  {
   "cell_type": "code",
   "metadata": {
    "id": "_Qzzg6b_GxvO",
    "colab_type": "code",
    "colab": {}
   },
   "source": [
    ""
   ],
   "execution_count": 15,
   "outputs": []
  },
  {
   "cell_type": "markdown",
   "metadata": {
    "id": "Sm2DL5tZGxvQ",
    "colab_type": "text"
   },
   "source": [
    "**Challenge**: Show two line (e.g. for Java and Python) on the same chart."
   ]
  },
  {
   "cell_type": "code",
   "metadata": {
    "id": "T-0vClQSGxvQ",
    "colab_type": "code",
    "colab": {}
   },
   "source": [
    ""
   ],
   "execution_count": 15,
   "outputs": []
  },
  {
   "cell_type": "markdown",
   "metadata": {
    "id": "3jSjfPy7GxvY",
    "colab_type": "text"
   },
   "source": [
    "# Smoothing out Time Series Data\n",
    "\n",
    "Time series data can be quite noisy, with a lot of up and down spikes. To better see a trend we can plot an average of, say 6 or 12 observations. This is called the rolling mean. We calculate the average in a window of time and move it forward by one overservation. Pandas has two handy methods already built in to work this out: [rolling()](https://pandas.pydata.org/pandas-docs/stable/reference/api/pandas.DataFrame.rolling.html) and [mean()](https://pandas.pydata.org/pandas-docs/stable/reference/api/pandas.core.window.rolling.Rolling.mean.html). "
   ]
  },
  {
   "cell_type": "code",
   "metadata": {
    "id": "s3WYd3OgGxvc",
    "colab_type": "code",
    "colab": {}
   },
   "source": [
    ""
   ],
   "execution_count": 15,
   "outputs": []
  },
  {
   "cell_type": "code",
   "metadata": {
    "id": "WMJOX8Y2Gxvd",
    "colab_type": "code",
    "colab": {}
   },
   "source": [
    ""
   ],
   "execution_count": 15,
   "outputs": []
  },
  {
   "cell_type": "code",
   "metadata": {
    "id": "fAvvarA7Gxvf",
    "colab_type": "code",
    "colab": {}
   },
   "source": [
    ""
   ],
   "execution_count": 15,
   "outputs": []
  },
  {
   "cell_type": "code",
   "metadata": {
    "id": "Gm0Ww0S4Gxvg",
    "colab_type": "code",
    "colab": {}
   },
   "source": [
    ""
   ],
   "execution_count": 15,
   "outputs": []
  }
 ]
}